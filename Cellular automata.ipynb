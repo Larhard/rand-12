{
 "cells": [
  {
   "cell_type": "code",
   "execution_count": 1,
   "metadata": {},
   "outputs": [],
   "source": [
    "%matplotlib inline"
   ]
  },
  {
   "cell_type": "code",
   "execution_count": 2,
   "metadata": {},
   "outputs": [],
   "source": [
    "import matplotlib.pyplot as plt\n",
    "import numpy as np\n",
    "from music21.stream import Stream, Score, Part, Measure\n",
    "from music21.clef import Clef\n",
    "from music21.note import Note, Unpitched\n",
    "from music21.duration import Duration\n",
    "from music21 import midi\n",
    "from music21.instrument import *\n",
    "from music21.meter import TimeSignature"
   ]
  },
  {
   "cell_type": "code",
   "execution_count": 3,
   "metadata": {},
   "outputs": [],
   "source": [
    "def step(data, patterns, padding=None, padding_type=None):\n",
    "    data = np.asarray(data, dtype=np.bool)\n",
    "    assert len(data.shape) == 1\n",
    "    patterns = np.asarray(patterns, dtype=np.bool)\n",
    "    assert len(patterns.shape) == 2\n",
    "    \n",
    "    k = patterns.shape[1]\n",
    "    \n",
    "    if padding is None:\n",
    "        padding = k // 2\n",
    "        \n",
    "    if padding_type is None:\n",
    "        padding_type = lambda n, dtype: np.random.randint(0, 2, n, dtype=dtype)\n",
    "    \n",
    "    result = padding_type(data.shape[0], dtype=np.bool)\n",
    "    for (p,), _ in np.ndenumerate(data[:-k]):\n",
    "        result[padding + p] = np.any(np.all(patterns == data[p : p+k], axis=1))\n",
    "    return result"
   ]
  },
  {
   "cell_type": "code",
   "execution_count": 4,
   "metadata": {},
   "outputs": [],
   "source": [
    "# Skala Ciszy\n",
    "scale_silent = {\n",
    "#     20: \"C3\",\n",
    "#     21: \"C#3\",\n",
    "#     22: \"D3\",\n",
    "#     23: \"D#3\",\n",
    "#     24: \"E3\",\n",
    "#     25: \"F3\",\n",
    "#     26: \"F#3\",\n",
    "#     27: \"G3\",\n",
    "#     28: \"G#3\",\n",
    "#     29: \"A3\",\n",
    "#     30: \"A#3\",\n",
    "#     31: \"B3\",\n",
    "#     32: \"C4\",\n",
    "#     33: \"C#4\",\n",
    "#     34: \"D4\",\n",
    "#     35: \"D#4\",\n",
    "#     36: \"E4\",\n",
    "#     37: \"F4\",\n",
    "#     38: \"F#4\",\n",
    "#     39: \"G4\",\n",
    "#     40: \"G#4\",\n",
    "#     41: \"A4\",\n",
    "#     42: \"A#4\",\n",
    "#     43: \"B4\",\n",
    "#     44: \"C5\",\n",
    "}"
   ]
  },
  {
   "cell_type": "code",
   "execution_count": 5,
   "metadata": {},
   "outputs": [],
   "source": [
    "# 12\n",
    "scale_dode = {\n",
    "    20: \"C3\",\n",
    "    21: \"C#3\",\n",
    "    22: \"D3\",\n",
    "    23: \"D#3\",\n",
    "    24: \"E3\",\n",
    "    25: \"F3\",\n",
    "    26: \"F#3\",\n",
    "    27: \"G3\",\n",
    "    28: \"G#3\",\n",
    "    29: \"A3\",\n",
    "    30: \"A#3\",\n",
    "    31: \"B3\",\n",
    "    32: \"C4\",\n",
    "    33: \"C#4\",\n",
    "    34: \"D4\",\n",
    "    35: \"D#4\",\n",
    "    36: \"E4\",\n",
    "    37: \"F4\",\n",
    "    38: \"F#4\",\n",
    "    39: \"G4\",\n",
    "    40: \"G#4\",\n",
    "    41: \"A4\",\n",
    "    42: \"A#4\",\n",
    "    43: \"B4\",\n",
    "    44: \"C5\",\n",
    "}"
   ]
  },
  {
   "cell_type": "code",
   "execution_count": 6,
   "metadata": {},
   "outputs": [],
   "source": [
    "# Pentatonika\n",
    "scale_pentatonic = {\n",
    "    20: \"C3\",\n",
    "#     21: \"C#3\",\n",
    "#     22: \"D3\",\n",
    "    23: \"D#3\",\n",
    "#     24: \"E3\",\n",
    "    25: \"F3\",\n",
    "#     26: \"F#3\",\n",
    "    27: \"G3\",\n",
    "#     28: \"G#3\",\n",
    "#     29: \"A3\",\n",
    "    30: \"A#3\",\n",
    "#     31: \"B3\",\n",
    "    32: \"C4\",\n",
    "#     33: \"C#4\",\n",
    "#     34: \"D4\",\n",
    "    35: \"D#4\",\n",
    "#     36: \"E4\",\n",
    "    37: \"F4\",\n",
    "#     38: \"F#4\",\n",
    "    39: \"G4\",\n",
    "#     40: \"G#4\",\n",
    "#     41: \"A4\",\n",
    "    42: \"A#4\",\n",
    "#     43: \"B4\",\n",
    "    44: \"C5\",\n",
    "}"
   ]
  },
  {
   "cell_type": "code",
   "execution_count": 7,
   "metadata": {},
   "outputs": [],
   "source": [
    "# Skala Dorycka\n",
    "scale_doric = {\n",
    "    20: \"C3\",\n",
    "#     21: \"C#3\",\n",
    "    22: \"D3\",\n",
    "#     23: \"D#3\",\n",
    "    24: \"E3\",\n",
    "    25: \"F3\",\n",
    "#     26: \"F#3\",\n",
    "    27: \"G3\",\n",
    "#     28: \"G#3\",\n",
    "    29: \"A3\",\n",
    "#     30: \"A#3\",\n",
    "    31: \"B3\",\n",
    "    32: \"C4\",\n",
    "#     33: \"C#4\",\n",
    "    34: \"D4\",\n",
    "#     35: \"D#4\",\n",
    "    36: \"E4\",\n",
    "    37: \"F4\",\n",
    "#     38: \"F#4\",\n",
    "    39: \"G4\",\n",
    "#     40: \"G#4\",\n",
    "    41: \"A4\",\n",
    "#     42: \"A#4\",\n",
    "    43: \"B4\",\n",
    "    44: \"C5\",\n",
    "}"
   ]
  },
  {
   "cell_type": "code",
   "execution_count": 8,
   "metadata": {},
   "outputs": [],
   "source": [
    "# Skala Eolska\n",
    "scale_aeolian = {\n",
    "    20: \"C3\",\n",
    "#     21: \"C#3\",\n",
    "    22: \"D3\",\n",
    "    23: \"D#3\",\n",
    "#     24: \"E3\",\n",
    "    25: \"F3\",\n",
    "#     26: \"F#3\",\n",
    "    27: \"G3\",\n",
    "    28: \"G#3\",\n",
    "#     29: \"A3\",\n",
    "    30: \"A#3\",\n",
    "#     31: \"B3\",\n",
    "    32: \"C4\",\n",
    "#     33: \"C#4\",\n",
    "    34: \"D4\",\n",
    "    35: \"D#4\",\n",
    "#     36: \"E4\",\n",
    "    37: \"F4\",\n",
    "#     38: \"F#4\",\n",
    "    39: \"G4\",\n",
    "    40: \"G#4\",\n",
    "#     41: \"A4\",\n",
    "    42: \"A#4\",\n",
    "#     43: \"B4\",\n",
    "    44: \"C5\",\n",
    "}"
   ]
  },
  {
   "cell_type": "code",
   "execution_count": 9,
   "metadata": {},
   "outputs": [],
   "source": [
    "# Skala Harmoniczna\n",
    "scale_harmonic = {\n",
    "    20: \"C3\",\n",
    "#     21: \"C#3\",\n",
    "    22: \"D3\",\n",
    "    23: \"E-3\",\n",
    "#     24: \"E3\",\n",
    "    25: \"F3\",\n",
    "#     26: \"F#3\",\n",
    "    27: \"G3\",\n",
    "    28: \"A-3\",\n",
    "#     29: \"A3\",\n",
    "#     30: \"A#3\",\n",
    "    31: \"B3\",\n",
    "    32: \"C4\",\n",
    "#     33: \"C#4\",\n",
    "    34: \"D4\",\n",
    "    35: \"E-4\",\n",
    "#     36: \"E4\",\n",
    "    37: \"F4\",\n",
    "#     38: \"F#4\",\n",
    "    39: \"G4\",\n",
    "    40: \"A-4\",\n",
    "#     41: \"A4\",\n",
    "#     42: \"A#4\",\n",
    "    43: \"B4\",\n",
    "    44: \"C5\",\n",
    "}"
   ]
  },
  {
   "cell_type": "code",
   "execution_count": 10,
   "metadata": {},
   "outputs": [],
   "source": [
    "# Skala Melodyczna\n",
    "scale_melodic = {\n",
    "    20: \"C3\",\n",
    "#     21: \"C#3\",\n",
    "    22: \"D3\",\n",
    "    23: \"D#3\",\n",
    "#     24: \"E3\",\n",
    "    25: \"F3\",\n",
    "#     26: \"F#3\",\n",
    "    27: \"G3\",\n",
    "#     28: \"G#3\",\n",
    "    29: \"A3\",\n",
    "#     30: \"A#3\",\n",
    "    31: \"B3\",\n",
    "    32: \"C4\",\n",
    "#     33: \"C#4\",\n",
    "    34: \"D4\",\n",
    "    35: \"D#4\",\n",
    "#     36: \"E4\",\n",
    "    37: \"F4\",\n",
    "#     38: \"F#4\",\n",
    "    39: \"G4\",\n",
    "#     40: \"G#4\",\n",
    "    41: \"A4\",\n",
    "#     42: \"A#4\",\n",
    "    43: \"B4\",\n",
    "    44: \"C5\",\n",
    "}"
   ]
  },
  {
   "cell_type": "code",
   "execution_count": 11,
   "metadata": {},
   "outputs": [],
   "source": [
    "# Skala Bluesowa\n",
    "scale_blues = {\n",
    "    20: \"C3\",\n",
    "#     21: \"C#3\",\n",
    "#     22: \"D3\",\n",
    "    23: \"D#3\",\n",
    "#     24: \"E3\",\n",
    "    25: \"F3\",\n",
    "    26: \"F#3\",\n",
    "    27: \"G3\",\n",
    "#     28: \"G#3\",\n",
    "#     29: \"A3\",\n",
    "    30: \"A#3\",\n",
    "#     31: \"B3\",\n",
    "    32: \"C4\",\n",
    "#     33: \"C#4\",\n",
    "#     34: \"D4\",\n",
    "    35: \"D#4\",\n",
    "#     36: \"E4\",\n",
    "    37: \"F4\",\n",
    "    38: \"F#4\",\n",
    "    39: \"G4\",\n",
    "#     40: \"G#4\",\n",
    "#     41: \"A4\",\n",
    "    42: \"A#4\",\n",
    "#     43: \"B4\",\n",
    "    44: \"C5\",\n",
    "}"
   ]
  },
  {
   "cell_type": "code",
   "execution_count": 12,
   "metadata": {},
   "outputs": [],
   "source": [
    "# Skala Jazzowa\n",
    "scale_jazz = {\n",
    "    20: \"C3\",\n",
    "#     21: \"C#3\",\n",
    "    22: \"D3\",\n",
    "    23: \"D#3\",\n",
    "#     24: \"E3\",\n",
    "    25: \"F3\",\n",
    "#     26: \"F#3\",\n",
    "    27: \"G3\",\n",
    "#     28: \"G#3\",\n",
    "    29: \"A3\",\n",
    "#     30: \"A#3\",\n",
    "    31: \"B3\",\n",
    "    32: \"C4\",\n",
    "#     33: \"C#4\",\n",
    "    34: \"D4\",\n",
    "    35: \"D#4\",\n",
    "#     36: \"E4\",\n",
    "    37: \"F4\",\n",
    "#     38: \"F#4\",\n",
    "    39: \"G4\",\n",
    "#     40: \"G#4\",\n",
    "    41: \"A4\",\n",
    "#     42: \"A#4\",\n",
    "    43: \"B4\",\n",
    "    44: \"C5\",\n",
    "}"
   ]
  },
  {
   "cell_type": "code",
   "execution_count": 13,
   "metadata": {},
   "outputs": [],
   "source": [
    "# Skala Cygańska\n",
    "scale_gipsy = {\n",
    "    20: \"C3\",\n",
    "    21: \"C#3\",\n",
    "#     22: \"D3\",\n",
    "#     23: \"D#3\",\n",
    "    24: \"E3\",\n",
    "    25: \"F3\",\n",
    "#     26: \"F#3\",\n",
    "    27: \"G3\",\n",
    "    28: \"G#3\",\n",
    "    29: \"A3\",\n",
    "#     30: \"A#3\",\n",
    "#     31: \"B3\",\n",
    "    32: \"C4\",\n",
    "    33: \"C#4\",\n",
    "#     34: \"D4\",\n",
    "#     35: \"D#4\",\n",
    "    36: \"E4\",\n",
    "    37: \"F4\",\n",
    "#     38: \"F#4\",\n",
    "    39: \"G4\",\n",
    "    40: \"G#4\",\n",
    "    41: \"A4\",\n",
    "#     42: \"A#4\",\n",
    "#     43: \"B4\",\n",
    "    44: \"C5\",\n",
    "}"
   ]
  },
  {
   "cell_type": "code",
   "execution_count": 14,
   "metadata": {},
   "outputs": [],
   "source": [
    "def play(stream):\n",
    "    player = midi.realtime.StreamPlayer(stream)\n",
    "    player.play()"
   ]
  },
  {
   "cell_type": "code",
   "execution_count": 15,
   "metadata": {},
   "outputs": [],
   "source": [
    "def make_scale_stream(scale):\n",
    "    stream = Stream()\n",
    "    \n",
    "    for scale_item in sorted(scale):\n",
    "        note = Note(scale[scale_item])\n",
    "        note.duration = Duration(0.25)\n",
    "        stream.append(note)\n",
    "    return stream"
   ]
  },
  {
   "cell_type": "code",
   "execution_count": 16,
   "metadata": {},
   "outputs": [],
   "source": [
    "def make_scale_score(scale):\n",
    "    score = Score()\n",
    "    \n",
    "    part = Part()\n",
    "    part.append(Woodblock())\n",
    "    measure = Measure()\n",
    "    for scale_item in sorted(scale):\n",
    "        note = Note(scale[scale_item])\n",
    "        note.duration = Duration(0.25)\n",
    "        measure.append(note)\n",
    "    part.append(measure)\n",
    "    score.append(part)\n",
    "    \n",
    "    return score"
   ]
  },
  {
   "cell_type": "code",
   "execution_count": 17,
   "metadata": {},
   "outputs": [
    {
     "data": {
      "image/png": "[encoded data removed]",
      "text/plain": [
       "<IPython.core.display.Image object>"
      ]
     },
     "metadata": {
      "image/png": {
       "height": 49,
       "width": 102
      }
     },
     "output_type": "display_data"
    }
   ],
   "source": [
    "n = Note(\"A\", type='quarter')\n",
    "\n",
    "drumPart = Part()\n",
    "drumPart.insert(0, Woodblock())\n",
    "\n",
    "drumMeasure = Measure()\n",
    "drumMeasure.append(n)\n",
    "drumPart.append(drumMeasure)\n",
    "\n",
    "drumPart.show()\n",
    "play(drumPart)"
   ]
  },
  {
   "cell_type": "code",
   "execution_count": 18,
   "metadata": {},
   "outputs": [
    {
     "data": {
      "image/png": "[encoded data removed]",
      "text/plain": [
       "<IPython.core.display.Image object>"
      ]
     },
     "metadata": {
      "image/png": {
       "height": 80,
       "width": 748
      }
     },
     "output_type": "display_data"
    }
   ],
   "source": [
    "stream = make_scale_score(scale_dode)\n",
    "stream.show()\n",
    "play(stream)"
   ]
  },
  {
   "cell_type": "code",
   "execution_count": 19,
   "metadata": {},
   "outputs": [],
   "source": [
    "def make_stream(data, scale, preprocessor=None):\n",
    "    stream = Stream()\n",
    "    \n",
    "    if preprocessor is not None:\n",
    "        data = preprocessor(data, scale)\n",
    "    \n",
    "    for position in range(len(data)):\n",
    "        for scale_item in scale:\n",
    "            if data[position][scale_item]:\n",
    "                if position == 0 or not data[position-1][scale_item]:\n",
    "                    duration = 1\n",
    "                    while position + duration < len(data) \\\n",
    "                            and data[position + duration - 1][scale_item]:\n",
    "                        duration += 1\n",
    "                    note = Note(scale[scale_item])\n",
    "                    note.duration = Duration(duration/4)\n",
    "                    stream.insert(position/2, note)\n",
    "                    \n",
    "    return stream"
   ]
  },
  {
   "cell_type": "code",
   "execution_count": 20,
   "metadata": {
    "scrolled": true
   },
   "outputs": [
    {
     "data": {
      "image/png": "[encoded data removed]",
      "text/plain": [
       "<matplotlib.figure.Figure at 0x7f640807f2b0>"
      ]
     },
     "metadata": {},
     "output_type": "display_data"
    },
    {
     "data": {
      "text/plain": [
       "<matplotlib.image.AxesImage at 0x7f63fe34c978>"
      ]
     },
     "execution_count": 20,
     "metadata": {},
     "output_type": "execute_result"
    },
    {
     "data": {
      "image/png": "[encoded data removed]",
      "text/plain": [
       "<matplotlib.figure.Figure at 0x7f640804b438>"
      ]
     },
     "metadata": {},
     "output_type": "display_data"
    }
   ],
   "source": [
    "data = [np.random.randint(0, 2, 100, dtype=np.bool)]\n",
    "patterns = np.random.randint(0, 2, (200, 9), dtype=np.bool)\n",
    "\n",
    "plt.imshow(patterns, interpolation=\"none\", cmap=\"plasma\")\n",
    "plt.show()\n",
    "\n",
    "for _ in range(100):\n",
    "    data.append(step(data[-1], patterns))\n",
    "plt.imshow(data, interpolation=\"none\", cmap=\"plasma\")"
   ]
  },
  {
   "cell_type": "code",
   "execution_count": 21,
   "metadata": {},
   "outputs": [
    {
     "data": {
      "text/plain": [
       "<matplotlib.image.AxesImage at 0x7f63fe2bd128>"
      ]
     },
     "execution_count": 21,
     "metadata": {},
     "output_type": "execute_result"
    },
    {
     "data": {
      "image/png": "[encoded data removed]",
      "text/plain": [
       "<matplotlib.figure.Figure at 0x7f640808e198>"
      ]
     },
     "metadata": {},
     "output_type": "display_data"
    }
   ],
   "source": [
    "def preprocess_remove_nonscale(data, scale):\n",
    "    data = np.asarray(data, dtype=np.bool)\n",
    "    available_notes = np.array(list(scale.keys()))\n",
    "    \n",
    "    mask = np.zeros_like(data[0], dtype=np.bool)\n",
    "    mask[available_notes] = True\n",
    "    \n",
    "    data = data * mask\n",
    "    return data\n",
    "\n",
    "plt.imshow(preprocess_remove_nonscale(data, scale_doric), interpolation=\"none\", cmap=\"plasma\")"
   ]
  },
  {
   "cell_type": "code",
   "execution_count": 22,
   "metadata": {},
   "outputs": [
    {
     "data": {
      "text/plain": [
       "<matplotlib.image.AxesImage at 0x7f63fe29ccf8>"
      ]
     },
     "execution_count": 22,
     "metadata": {},
     "output_type": "execute_result"
    },
    {
     "data": {
      "image/png": "[encoded data removed]",
      "text/plain": [
       "<matplotlib.figure.Figure at 0x7f63fe2f8860>"
      ]
     },
     "metadata": {},
     "output_type": "display_data"
    }
   ],
   "source": [
    "def preprocess_get_bottom(data, scale):\n",
    "    data = preprocess_remove_nonscale(data, scale)\n",
    "    for line in data:\n",
    "        nonzeros = np.nonzero(line)[0]\n",
    "        \n",
    "        mask = np.zeros_like(line, dtype=np.bool)\n",
    "        if len(nonzeros) > 0:\n",
    "            mask[nonzeros[0]] = True\n",
    "        line *= mask\n",
    "    return data\n",
    "\n",
    "plt.imshow(preprocess_get_bottom(data, scale_doric), interpolation=\"none\", cmap=\"plasma\")"
   ]
  },
  {
   "cell_type": "code",
   "execution_count": 23,
   "metadata": {},
   "outputs": [
    {
     "data": {
      "text/plain": [
       "<matplotlib.image.AxesImage at 0x7f63fe204390>"
      ]
     },
     "execution_count": 23,
     "metadata": {},
     "output_type": "execute_result"
    },
    {
     "data": {
      "image/png": "[encoded data removed]",
      "text/plain": [
       "<matplotlib.figure.Figure at 0x7f63fe2e19e8>"
      ]
     },
     "metadata": {},
     "output_type": "display_data"
    }
   ],
   "source": [
    "def preprocess_get_random(data, scale):\n",
    "    data = preprocess_remove_nonscale(data, scale)\n",
    "    last = None\n",
    "    for line in data:\n",
    "        nonzeros = np.nonzero(line)[0]\n",
    "        \n",
    "        mask = np.zeros_like(line, dtype=np.bool)\n",
    "        \n",
    "        if len(nonzeros) > 0:\n",
    "            mask[np.random.choice(nonzeros)] = True\n",
    "        \n",
    "        if last is not None:\n",
    "            if np.any(last * line):\n",
    "                line *= last\n",
    "            else:\n",
    "                line *= mask\n",
    "        else:\n",
    "            line *= mask\n",
    "        last = line\n",
    "    return data\n",
    "\n",
    "plt.imshow(preprocess_get_random(data, scale_doric), interpolation=\"none\", cmap=\"plasma\")"
   ]
  },
  {
   "cell_type": "code",
   "execution_count": 24,
   "metadata": {
    "scrolled": true
   },
   "outputs": [
    {
     "data": {
      "text/plain": [
       "<matplotlib.image.AxesImage at 0x7f64080315f8>"
      ]
     },
     "execution_count": 24,
     "metadata": {},
     "output_type": "execute_result"
    },
    {
     "data": {
      "image/png": "[encoded data removed]",
      "text/plain": [
       "<matplotlib.figure.Figure at 0x7f63fe247320>"
      ]
     },
     "metadata": {},
     "output_type": "display_data"
    }
   ],
   "source": [
    "def preprocess_get_top(data, scale):\n",
    "    data = preprocess_remove_nonscale(data, scale)\n",
    "    for line in data:\n",
    "        nonzeros = np.nonzero(line)[0]\n",
    "        \n",
    "        mask = np.zeros_like(line, dtype=np.bool)\n",
    "        if len(nonzeros) > 0:\n",
    "            mask[nonzeros[-1]] = True\n",
    "        line *= mask\n",
    "    return data\n",
    "\n",
    "plt.imshow(preprocess_get_top(data, scale_doric), interpolation=\"none\", cmap=\"plasma\")"
   ]
  },
  {
   "cell_type": "code",
   "execution_count": 25,
   "metadata": {},
   "outputs": [],
   "source": [
    "scale = scale_doric"
   ]
  },
  {
   "cell_type": "code",
   "execution_count": 26,
   "metadata": {},
   "outputs": [
    {
     "data": {
      "text/plain": [
       "<matplotlib.image.AxesImage at 0x7f63f2a9d780>"
      ]
     },
     "execution_count": 26,
     "metadata": {},
     "output_type": "execute_result"
    },
    {
     "data": {
      "image/png": "[encoded data removed]",
      "text/plain": [
       "<matplotlib.figure.Figure at 0x7f6408039358>"
      ]
     },
     "metadata": {},
     "output_type": "display_data"
    }
   ],
   "source": [
    "playable_data = preprocess_get_bottom(data, scale) \\\n",
    "    + preprocess_get_random(data, scale) \\\n",
    "    + preprocess_get_random(data, scale)\n",
    "plt.imshow(playable_data, interpolation=\"none\", cmap=\"plasma\")"
   ]
  },
  {
   "cell_type": "code",
   "execution_count": 27,
   "metadata": {},
   "outputs": [
    {
     "data": {
      "text/plain": [
       "<matplotlib.image.AxesImage at 0x7f63f2a7ba90>"
      ]
     },
     "execution_count": 27,
     "metadata": {},
     "output_type": "execute_result"
    },
    {
     "data": {
      "image/png": "[encoded data removed]",
      "text/plain": [
       "<matplotlib.figure.Figure at 0x7f63fe1bc908>"
      ]
     },
     "metadata": {},
     "output_type": "display_data"
    }
   ],
   "source": [
    "playable_data = preprocess_get_bottom(data, scale) \\\n",
    "    + preprocess_get_top(data, scale) \\\n",
    "    + preprocess_get_random(data, scale)\n",
    "plt.imshow(playable_data, interpolation=\"none\", cmap=\"plasma\")"
   ]
  },
  {
   "cell_type": "code",
   "execution_count": null,
   "metadata": {},
   "outputs": [],
   "source": [
    "stream = make_stream(playable_data, scale)\n",
    "\n",
    "# stream.show()\n",
    "play(stream)"
   ]
  },
  {
   "cell_type": "code",
   "execution_count": null,
   "metadata": {},
   "outputs": [],
   "source": [
    "import time\n",
    "import random"
   ]
  },
  {
   "cell_type": "code",
   "execution_count": null,
   "metadata": {},
   "outputs": [],
   "source": [
    "def make_part(data, scale, instrument, preprocessor=None):\n",
    "    part = Part()\n",
    "    part.append(instrument)\n",
    "    \n",
    "    measure = Measure()\n",
    "    \n",
    "    if preprocessor is not None:\n",
    "        data = preprocessor(data, scale)\n",
    "    \n",
    "    for position in range(len(data)):\n",
    "        for scale_item in scale:\n",
    "            if data[position][scale_item]:\n",
    "                if position == 0 or not data[position-1][scale_item]:\n",
    "                    duration = 1\n",
    "                    while position + duration < len(data) \\\n",
    "                            and data[position + duration - 1][scale_item]:\n",
    "                        duration += 1\n",
    "                    note = Note(scale[scale_item])\n",
    "                    note.duration = Duration(duration/4)\n",
    "                    measure.insert(position/4, note)\n",
    "                    \n",
    "    part.append(measure)     \n",
    "    return part"
   ]
  },
  {
   "cell_type": "code",
   "execution_count": null,
   "metadata": {},
   "outputs": [],
   "source": [
    "data = np.asarray(data)"
   ]
  },
  {
   "cell_type": "code",
   "execution_count": null,
   "metadata": {},
   "outputs": [],
   "source": [
    "data2 = np.copy(data)\n",
    "data2[1::2] = data2[:-1:2]\n",
    "plt.imshow(data2 , interpolation=\"none\", cmap=\"plasma\")"
   ]
  },
  {
   "cell_type": "code",
   "execution_count": null,
   "metadata": {
    "scrolled": false
   },
   "outputs": [],
   "source": [
    "\n",
    "scale = {\n",
    "    20: \"C3\",\n",
    "    24: \"D#3\",\n",
    "    28: \"F3\",\n",
    "    32: \"F#3\",\n",
    "    36: \"G3\",\n",
    "    40: \"A#3\",\n",
    "    44: \"C4\",\n",
    "    48: \"D#4\",\n",
    "    52: \"F4\",\n",
    "    56: \"F#4\",\n",
    "    60: \"G4\",\n",
    "    64: \"A#4\",\n",
    "    68: \"C5\",\n",
    "}\n",
    "\n",
    "score = Score()\n",
    "\n",
    "data = [np.random.randint(0, 2, 100, dtype=np.bool)]\n",
    "p, q = random.choice([(7, 3), (40, 5), (100, 7), (200, 9)])\n",
    "patterns = np.random.randint(0, 2, (p, q), dtype=np.bool)\n",
    "\n",
    "for _ in range(30):\n",
    "    data.append(step(data[-1], patterns))\n",
    "data = np.asarray(data)\n",
    "\n",
    "data2 = np.copy(data)\n",
    "data2[1::2] = data2[:-1:2]\n",
    "\n",
    "data3 = np.copy(data)\n",
    "data3[1::3] = data3[:-2:3]\n",
    "data3[2::3] = data3[:-2:3]\n",
    "\n",
    "plt.imshow(data , interpolation=\"none\", cmap=\"plasma\")\n",
    "plt.show()\n",
    "plt.imshow(data2 , interpolation=\"none\", cmap=\"plasma\")\n",
    "plt.show()\n",
    "plt.imshow(data3 , interpolation=\"none\", cmap=\"plasma\")\n",
    "plt.show()\n",
    "\n",
    "playable_data = preprocess_get_random(data2 * np.concatenate([np.zeros(43), np.ones(57)]), scale)\n",
    "score.append(make_part(playable_data, scale, Xylophone()))\n",
    "playable_data = preprocess_get_random(data2 * np.concatenate([np.zeros(43), np.ones(57)]), scale)\n",
    "score.append(make_part(playable_data, scale, Xylophone()))\n",
    "\n",
    "\n",
    "playable_data = preprocess_get_random(data3 * np.concatenate([np.ones(31), np.zeros(69)]), scale)\n",
    "score.append(make_part(playable_data, scale, Xylophone()))\n",
    "\n",
    "\n",
    "playable_data = preprocess_get_random(data3 * np.concatenate([np.zeros(31), np.ones(13), np.zeros(56)]), scale)\n",
    "score.append(make_part(playable_data, scale, Xylophone()))\n",
    "\n",
    "\n",
    "playable_data = preprocess_get_random(data3 * np.concatenate([np.zeros(31), np.ones(13), np.zeros(56)]), scale)\n",
    "score.append(make_part(playable_data, scale, Xylophone()))\n",
    "\n",
    "\n",
    "playable_data = preprocess_get_bottom(data3 * np.concatenate([np.ones(44), np.zeros(56)]), scale)\n",
    "score.append(make_part(playable_data, scale, Xylophone()))\n",
    "\n",
    "\n",
    "\n",
    "score.show()\n",
    "play(score)"
   ]
  },
  {
   "cell_type": "code",
   "execution_count": null,
   "metadata": {
    "scrolled": true
   },
   "outputs": [],
   "source": [
    "while True:\n",
    "    data = [np.random.randint(0, 2, 100, dtype=np.bool)]\n",
    "    p, q = random.choice([(7, 3), (40, 5), (100, 7), (200, 9)])\n",
    "    patterns = np.random.randint(0, 2, (p, q), dtype=np.bool)\n",
    "\n",
    "    for _ in range(100):\n",
    "        data.append(step(data[-1], patterns))\n",
    "    \n",
    "    scale = random.choice([scale_blues])\n",
    "\n",
    "    \n",
    "    playable_data = preprocess_get_bottom(data, scale) \\\n",
    "        + preprocess_get_random(data, scale) \\\n",
    "        + preprocess_get_random(data, scale)\n",
    "\n",
    "    stream = make_stream(playable_data, scale)\n",
    "\n",
    "    # stream.show()\n",
    "    play(stream)\n",
    "    \n",
    "    time.sleep(1)"
   ]
  },
  {
   "cell_type": "code",
   "execution_count": null,
   "metadata": {},
   "outputs": [],
   "source": []
  }
 ],
 "metadata": {
  "kernelspec": {
   "display_name": "Python 3",
   "language": "python",
   "name": "python3"
  },
  "language_info": {
   "codemirror_mode": {
    "name": "ipython",
    "version": 3
   },
   "file_extension": ".py",
   "mimetype": "text/x-python",
   "name": "python",
   "nbconvert_exporter": "python",
   "pygments_lexer": "ipython3",
   "version": "3.5.2"
  }
 },
 "nbformat": 4,
 "nbformat_minor": 2
}
