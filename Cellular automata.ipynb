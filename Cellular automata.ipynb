{
 "cells": [
  {
   "cell_type": "code",
   "execution_count": 1,
   "metadata": {},
   "outputs": [],
   "source": [
    "%matplotlib inline"
   ]
  },
  {
   "cell_type": "code",
   "execution_count": 2,
   "metadata": {},
   "outputs": [],
   "source": [
    "import matplotlib.pyplot as plt\n",
    "import numpy as np\n",
    "from music21.stream import Stream\n",
    "from music21.clef import Clef\n",
    "from music21.note import Note\n",
    "from music21.duration import Duration\n",
    "from music21 import midi"
   ]
  },
  {
   "cell_type": "code",
   "execution_count": 3,
   "metadata": {},
   "outputs": [],
   "source": [
    "def step(data, patterns, padding=None, padding_type=None):\n",
    "    data = np.asarray(data, dtype=np.bool)\n",
    "    assert len(data.shape) == 1\n",
    "    patterns = np.asarray(patterns, dtype=np.bool)\n",
    "    assert len(patterns.shape) == 2\n",
    "    \n",
    "    k = patterns.shape[1]\n",
    "    \n",
    "    if padding is None:\n",
    "        padding = k // 2\n",
    "        \n",
    "    if padding_type is None:\n",
    "        padding_type = lambda n, dtype: np.random.randint(0, 2, n, dtype=dtype)\n",
    "    \n",
    "    result = padding_type(data.shape[0], dtype=np.bool)\n",
    "    for (p,), _ in np.ndenumerate(data[:-k]):\n",
    "        result[padding + p] = np.any(np.all(patterns == data[p : p+k], axis=1))\n",
    "    return result"
   ]
  },
  {
   "cell_type": "code",
   "execution_count": 4,
   "metadata": {},
   "outputs": [],
   "source": [
    "# Skala Ciszy\n",
    "scale_silent = {\n",
    "#     20: \"C3\",\n",
    "#     21: \"C#3\",\n",
    "#     22: \"D3\",\n",
    "#     23: \"D#3\",\n",
    "#     24: \"E3\",\n",
    "#     25: \"F3\",\n",
    "#     26: \"F#3\",\n",
    "#     27: \"G3\",\n",
    "#     28: \"G#3\",\n",
    "#     29: \"A3\",\n",
    "#     30: \"A#3\",\n",
    "#     31: \"B3\",\n",
    "#     32: \"C4\",\n",
    "#     33: \"C#4\",\n",
    "#     34: \"D4\",\n",
    "#     35: \"D#4\",\n",
    "#     36: \"E4\",\n",
    "#     37: \"F4\",\n",
    "#     38: \"F#4\",\n",
    "#     39: \"G4\",\n",
    "#     40: \"G#4\",\n",
    "#     41: \"A4\",\n",
    "#     42: \"A#4\",\n",
    "#     43: \"B4\",\n",
    "#     44: \"C5\",\n",
    "}"
   ]
  },
  {
   "cell_type": "code",
   "execution_count": 5,
   "metadata": {},
   "outputs": [],
   "source": [
    "# Pentatonika\n",
    "scale_pentatonic = {\n",
    "    20: \"C3\",\n",
    "#     21: \"C#3\",\n",
    "#     22: \"D3\",\n",
    "    23: \"D#3\",\n",
    "#     24: \"E3\",\n",
    "    25: \"F3\",\n",
    "#     26: \"F#3\",\n",
    "    27: \"G3\",\n",
    "#     28: \"G#3\",\n",
    "#     29: \"A3\",\n",
    "    30: \"A#3\",\n",
    "#     31: \"B3\",\n",
    "    32: \"C4\",\n",
    "#     33: \"C#4\",\n",
    "#     34: \"D4\",\n",
    "    35: \"D#4\",\n",
    "#     36: \"E4\",\n",
    "    37: \"F4\",\n",
    "#     38: \"F#4\",\n",
    "    39: \"G4\",\n",
    "#     40: \"G#4\",\n",
    "#     41: \"A4\",\n",
    "    42: \"A#4\",\n",
    "#     43: \"B4\",\n",
    "    44: \"C5\",\n",
    "}"
   ]
  },
  {
   "cell_type": "code",
   "execution_count": 6,
   "metadata": {},
   "outputs": [],
   "source": [
    "# Skala Dorycka\n",
    "scale_doric = {\n",
    "    20: \"C3\",\n",
    "#     21: \"C#3\",\n",
    "    22: \"D3\",\n",
    "#     23: \"D#3\",\n",
    "    24: \"E3\",\n",
    "    25: \"F3\",\n",
    "#     26: \"F#3\",\n",
    "    27: \"G3\",\n",
    "#     28: \"G#3\",\n",
    "    29: \"A3\",\n",
    "#     30: \"A#3\",\n",
    "    31: \"B3\",\n",
    "    32: \"C4\",\n",
    "#     33: \"C#4\",\n",
    "    34: \"D4\",\n",
    "#     35: \"D#4\",\n",
    "    36: \"E4\",\n",
    "    37: \"F4\",\n",
    "#     38: \"F#4\",\n",
    "    39: \"G4\",\n",
    "#     40: \"G#4\",\n",
    "    41: \"A4\",\n",
    "#     42: \"A#4\",\n",
    "    43: \"B4\",\n",
    "    44: \"C5\",\n",
    "}"
   ]
  },
  {
   "cell_type": "code",
   "execution_count": 7,
   "metadata": {},
   "outputs": [],
   "source": [
    "# Skala Eolska\n",
    "scale_aeolian = {\n",
    "    20: \"C3\",\n",
    "#     21: \"C#3\",\n",
    "    22: \"D3\",\n",
    "    23: \"D#3\",\n",
    "#     24: \"E3\",\n",
    "    25: \"F3\",\n",
    "#     26: \"F#3\",\n",
    "    27: \"G3\",\n",
    "    28: \"G#3\",\n",
    "#     29: \"A3\",\n",
    "    30: \"A#3\",\n",
    "#     31: \"B3\",\n",
    "    32: \"C4\",\n",
    "#     33: \"C#4\",\n",
    "    34: \"D4\",\n",
    "    35: \"D#4\",\n",
    "#     36: \"E4\",\n",
    "    37: \"F4\",\n",
    "#     38: \"F#4\",\n",
    "    39: \"G4\",\n",
    "    40: \"G#4\",\n",
    "#     41: \"A4\",\n",
    "    42: \"A#4\",\n",
    "#     43: \"B4\",\n",
    "    44: \"C5\",\n",
    "}"
   ]
  },
  {
   "cell_type": "code",
   "execution_count": 8,
   "metadata": {},
   "outputs": [],
   "source": [
    "# Skala Harmoniczna\n",
    "scale_harmonic = {\n",
    "    20: \"C3\",\n",
    "#     21: \"C#3\",\n",
    "    22: \"D3\",\n",
    "    23: \"E-3\",\n",
    "#     24: \"E3\",\n",
    "    25: \"F3\",\n",
    "#     26: \"F#3\",\n",
    "    27: \"G3\",\n",
    "    28: \"A-3\",\n",
    "#     29: \"A3\",\n",
    "#     30: \"A#3\",\n",
    "    31: \"B3\",\n",
    "    32: \"C4\",\n",
    "#     33: \"C#4\",\n",
    "    34: \"D4\",\n",
    "    35: \"E-4\",\n",
    "#     36: \"E4\",\n",
    "    37: \"F4\",\n",
    "#     38: \"F#4\",\n",
    "    39: \"G4\",\n",
    "    40: \"A-4\",\n",
    "#     41: \"A4\",\n",
    "#     42: \"A#4\",\n",
    "    43: \"B4\",\n",
    "    44: \"C5\",\n",
    "}"
   ]
  },
  {
   "cell_type": "code",
   "execution_count": 9,
   "metadata": {},
   "outputs": [],
   "source": [
    "# Skala Melodyczna\n",
    "scale_melodic = {\n",
    "    20: \"C3\",\n",
    "#     21: \"C#3\",\n",
    "    22: \"D3\",\n",
    "    23: \"D#3\",\n",
    "#     24: \"E3\",\n",
    "    25: \"F3\",\n",
    "#     26: \"F#3\",\n",
    "    27: \"G3\",\n",
    "#     28: \"G#3\",\n",
    "    29: \"A3\",\n",
    "#     30: \"A#3\",\n",
    "    31: \"B3\",\n",
    "    32: \"C4\",\n",
    "#     33: \"C#4\",\n",
    "    34: \"D4\",\n",
    "    35: \"D#4\",\n",
    "#     36: \"E4\",\n",
    "    37: \"F4\",\n",
    "#     38: \"F#4\",\n",
    "    39: \"G4\",\n",
    "#     40: \"G#4\",\n",
    "    41: \"A4\",\n",
    "#     42: \"A#4\",\n",
    "    43: \"B4\",\n",
    "    44: \"C5\",\n",
    "}"
   ]
  },
  {
   "cell_type": "code",
   "execution_count": 10,
   "metadata": {},
   "outputs": [],
   "source": [
    "# Skala Bluesowa\n",
    "scale_blues = {\n",
    "    20: \"C3\",\n",
    "#     21: \"C#3\",\n",
    "#     22: \"D3\",\n",
    "    23: \"D#3\",\n",
    "#     24: \"E3\",\n",
    "    25: \"F3\",\n",
    "    26: \"F#3\",\n",
    "    27: \"G3\",\n",
    "#     28: \"G#3\",\n",
    "#     29: \"A3\",\n",
    "    30: \"A#3\",\n",
    "#     31: \"B3\",\n",
    "    32: \"C4\",\n",
    "#     33: \"C#4\",\n",
    "#     34: \"D4\",\n",
    "    35: \"D#4\",\n",
    "#     36: \"E4\",\n",
    "    37: \"F4\",\n",
    "    38: \"F#4\",\n",
    "    39: \"G4\",\n",
    "#     40: \"G#4\",\n",
    "#     41: \"A4\",\n",
    "    42: \"A#4\",\n",
    "#     43: \"B4\",\n",
    "    44: \"C5\",\n",
    "}"
   ]
  },
  {
   "cell_type": "code",
   "execution_count": 11,
   "metadata": {},
   "outputs": [],
   "source": [
    "# Skala Jazzowa\n",
    "scale_jazz = {\n",
    "    20: \"C3\",\n",
    "#     21: \"C#3\",\n",
    "    22: \"D3\",\n",
    "    23: \"D#3\",\n",
    "#     24: \"E3\",\n",
    "    25: \"F3\",\n",
    "#     26: \"F#3\",\n",
    "    27: \"G3\",\n",
    "#     28: \"G#3\",\n",
    "    29: \"A3\",\n",
    "#     30: \"A#3\",\n",
    "    31: \"B3\",\n",
    "    32: \"C4\",\n",
    "#     33: \"C#4\",\n",
    "    34: \"D4\",\n",
    "    35: \"D#4\",\n",
    "#     36: \"E4\",\n",
    "    37: \"F4\",\n",
    "#     38: \"F#4\",\n",
    "    39: \"G4\",\n",
    "#     40: \"G#4\",\n",
    "    41: \"A4\",\n",
    "#     42: \"A#4\",\n",
    "    43: \"B4\",\n",
    "    44: \"C5\",\n",
    "}"
   ]
  },
  {
   "cell_type": "code",
   "execution_count": 12,
   "metadata": {},
   "outputs": [],
   "source": [
    "# Skala Cygańska\n",
    "scale_gipsy = {\n",
    "    20: \"C3\",\n",
    "    21: \"C#3\",\n",
    "#     22: \"D3\",\n",
    "#     23: \"D#3\",\n",
    "    24: \"E3\",\n",
    "    25: \"F3\",\n",
    "#     26: \"F#3\",\n",
    "    27: \"G3\",\n",
    "    28: \"G#3\",\n",
    "    29: \"A3\",\n",
    "#     30: \"A#3\",\n",
    "#     31: \"B3\",\n",
    "    32: \"C4\",\n",
    "    33: \"C#4\",\n",
    "#     34: \"D4\",\n",
    "#     35: \"D#4\",\n",
    "    36: \"E4\",\n",
    "    37: \"F4\",\n",
    "#     38: \"F#4\",\n",
    "    39: \"G4\",\n",
    "    40: \"G#4\",\n",
    "    41: \"A4\",\n",
    "#     42: \"A#4\",\n",
    "#     43: \"B4\",\n",
    "    44: \"C5\",\n",
    "}"
   ]
  },
  {
   "cell_type": "code",
   "execution_count": 13,
   "metadata": {},
   "outputs": [],
   "source": [
    "def play(stream):\n",
    "    player = midi.realtime.StreamPlayer(stream)\n",
    "    player.play()"
   ]
  },
  {
   "cell_type": "code",
   "execution_count": 14,
   "metadata": {},
   "outputs": [],
   "source": [
    "def make_scale_stream(scale):\n",
    "    stream = Stream()\n",
    "    \n",
    "    for scale_item in sorted(scale):\n",
    "        note = Note(scale[scale_item])\n",
    "        note.duration = Duration(1)\n",
    "        stream.append(note)\n",
    "    return stream"
   ]
  },
  {
   "cell_type": "code",
   "execution_count": 15,
   "metadata": {},
   "outputs": [
    {
     "data": {
      "image/png": "[encoded data removed]",
      "text/plain": [
       "<IPython.core.display.Image object>"
      ]
     },
     "metadata": {
      "image/png": {
       "height": 77,
       "width": 748
      }
     },
     "output_type": "display_data"
    }
   ],
   "source": [
    "stream = make_scale_stream(scale_blues)\n",
    "stream.show()\n",
    "play(stream)"
   ]
  },
  {
   "cell_type": "code",
   "execution_count": 16,
   "metadata": {},
   "outputs": [],
   "source": [
    "def make_stream(data, scale, preprocessor=None):\n",
    "    stream = Stream()\n",
    "    \n",
    "    if preprocessor is not None:\n",
    "        data = preprocessor(data, scale)\n",
    "    \n",
    "    for position in range(len(data)):\n",
    "        for scale_item in scale:\n",
    "            if data[position][scale_item]:\n",
    "                if position == 0 or not data[position-1][scale_item]:\n",
    "                    duration = 1\n",
    "                    while position + duration < len(data) \\\n",
    "                            and data[position + duration - 1][scale_item]:\n",
    "                        duration += 1\n",
    "                    note = Note(scale[scale_item])\n",
    "                    note.duration = Duration(duration/4)\n",
    "                    stream.insert(position/2, note)\n",
    "                    \n",
    "    return stream"
   ]
  },
  {
   "cell_type": "code",
   "execution_count": 18,
   "metadata": {
    "scrolled": true
   },
   "outputs": [
    {
     "data": {
      "image/png": "[encoded data removed]",
      "text/plain": [
       "<matplotlib.figure.Figure at 0x7faac5a5d400>"
      ]
     },
     "metadata": {
      "image/png": {
       "height": 255,
       "width": 50
      }
     },
     "output_type": "display_data"
    },
    {
     "data": {
      "text/plain": [
       "<matplotlib.image.AxesImage at 0x7faac35b10f0>"
      ]
     },
     "execution_count": 18,
     "metadata": {},
     "output_type": "execute_result"
    },
    {
     "data": {
      "image/png": "[encoded data removed]",
      "text/plain": [
       "<matplotlib.figure.Figure at 0x7faac366e710>"
      ]
     },
     "metadata": {
      "image/png": {
       "height": 254,
       "width": 258
      }
     },
     "output_type": "display_data"
    }
   ],
   "source": [
    "data = [np.random.randint(0, 2, 100, dtype=np.bool)]\n",
    "patterns = np.random.randint(0, 2, (200, 9), dtype=np.bool)\n",
    "\n",
    "plt.imshow(patterns, interpolation=\"none\", cmap=\"plasma\")\n",
    "plt.show()\n",
    "\n",
    "for _ in range(100):\n",
    "    data.append(step(data[-1], patterns))\n",
    "plt.imshow(data, interpolation=\"none\", cmap=\"plasma\")"
   ]
  },
  {
   "cell_type": "code",
   "execution_count": 19,
   "metadata": {},
   "outputs": [
    {
     "data": {
      "text/plain": [
       "<matplotlib.image.AxesImage at 0x7faac3524358>"
      ]
     },
     "execution_count": 19,
     "metadata": {},
     "output_type": "execute_result"
    },
    {
     "data": {
      "image/png": "[encoded data removed]",
      "text/plain": [
       "<matplotlib.figure.Figure at 0x7faac35f75f8>"
      ]
     },
     "metadata": {
      "image/png": {
       "height": 254,
       "width": 258
      }
     },
     "output_type": "display_data"
    }
   ],
   "source": [
    "def preprocess_remove_nonscale(data, scale):\n",
    "    data = np.asarray(data, dtype=np.bool)\n",
    "    available_notes = np.array(list(scale.keys()))\n",
    "    \n",
    "    mask = np.zeros_like(data[0], dtype=np.bool)\n",
    "    mask[available_notes] = True\n",
    "    \n",
    "    data = data * mask\n",
    "    return data\n",
    "\n",
    "plt.imshow(preprocess_remove_nonscale(data, scale_doric), interpolation=\"none\", cmap=\"plasma\")"
   ]
  },
  {
   "cell_type": "code",
   "execution_count": 20,
   "metadata": {},
   "outputs": [
    {
     "data": {
      "text/plain": [
       "<matplotlib.image.AxesImage at 0x7faac3500748>"
      ]
     },
     "execution_count": 20,
     "metadata": {},
     "output_type": "execute_result"
    },
    {
     "data": {
      "image/png": "[encoded data removed]",
      "text/plain": [
       "<matplotlib.figure.Figure at 0x7faac356f668>"
      ]
     },
     "metadata": {
      "image/png": {
       "height": 254,
       "width": 258
      }
     },
     "output_type": "display_data"
    }
   ],
   "source": [
    "def preprocess_get_bottom(data, scale):\n",
    "    data = preprocess_remove_nonscale(data, scale)\n",
    "    for line in data:\n",
    "        nonzeros = np.nonzero(line)[0]\n",
    "        \n",
    "        mask = np.zeros_like(line, dtype=np.bool)\n",
    "        if len(nonzeros) > 0:\n",
    "            mask[nonzeros[0]] = True\n",
    "        line *= mask\n",
    "    return data\n",
    "\n",
    "plt.imshow(preprocess_get_bottom(data, scale_doric), interpolation=\"none\", cmap=\"plasma\")"
   ]
  },
  {
   "cell_type": "code",
   "execution_count": 21,
   "metadata": {},
   "outputs": [
    {
     "data": {
      "text/plain": [
       "<matplotlib.image.AxesImage at 0x7faabc598a20>"
      ]
     },
     "execution_count": 21,
     "metadata": {},
     "output_type": "execute_result"
    },
    {
     "data": {
      "image/png": "[encoded data removed]",
      "text/plain": [
       "<matplotlib.figure.Figure at 0x7faac34cfba8>"
      ]
     },
     "metadata": {
      "image/png": {
       "height": 254,
       "width": 258
      }
     },
     "output_type": "display_data"
    }
   ],
   "source": [
    "def preprocess_get_random(data, scale):\n",
    "    data = preprocess_remove_nonscale(data, scale)\n",
    "    for line in data:\n",
    "        nonzeros = np.nonzero(line)[0]\n",
    "        \n",
    "        mask = np.zeros_like(line, dtype=np.bool)\n",
    "        if len(nonzeros) > 0:\n",
    "            mask[np.random.choice(nonzeros)] = True\n",
    "        line *= mask\n",
    "    return data\n",
    "\n",
    "plt.imshow(preprocess_get_random(data, scale_doric), interpolation=\"none\", cmap=\"plasma\")"
   ]
  },
  {
   "cell_type": "code",
   "execution_count": 22,
   "metadata": {
    "scrolled": true
   },
   "outputs": [
    {
     "data": {
      "text/plain": [
       "<matplotlib.image.AxesImage at 0x7faac35dda90>"
      ]
     },
     "execution_count": 22,
     "metadata": {},
     "output_type": "execute_result"
    },
    {
     "data": {
      "image/png": "[encoded data removed]",
      "text/plain": [
       "<matplotlib.figure.Figure at 0x7faac34aef60>"
      ]
     },
     "metadata": {
      "image/png": {
       "height": 254,
       "width": 258
      }
     },
     "output_type": "display_data"
    }
   ],
   "source": [
    "def preprocess_get_top(data, scale):\n",
    "    data = preprocess_remove_nonscale(data, scale)\n",
    "    for line in data:\n",
    "        nonzeros = np.nonzero(line)[0]\n",
    "        \n",
    "        mask = np.zeros_like(line, dtype=np.bool)\n",
    "        if len(nonzeros) > 0:\n",
    "            mask[nonzeros[-1]] = True\n",
    "        line *= mask\n",
    "    return data\n",
    "\n",
    "plt.imshow(preprocess_get_top(data, scale_doric), interpolation=\"none\", cmap=\"plasma\")"
   ]
  },
  {
   "cell_type": "code",
   "execution_count": 26,
   "metadata": {},
   "outputs": [],
   "source": [
    "scale = scale_doric"
   ]
  },
  {
   "cell_type": "code",
   "execution_count": 48,
   "metadata": {},
   "outputs": [
    {
     "data": {
      "text/plain": [
       "<matplotlib.image.AxesImage at 0x7faabc35ab70>"
      ]
     },
     "execution_count": 48,
     "metadata": {},
     "output_type": "execute_result"
    },
    {
     "data": {
      "image/png": "[encoded data removed]",
      "text/plain": [
       "<matplotlib.figure.Figure at 0x7faabc476780>"
      ]
     },
     "metadata": {
      "image/png": {
       "height": 254,
       "width": 258
      }
     },
     "output_type": "display_data"
    }
   ],
   "source": [
    "playable_data = preprocess_get_bottom(data, scale) \\\n",
    "    + preprocess_get_random(data, scale) \\\n",
    "    + preprocess_get_random(data, scale)\n",
    "plt.imshow(playable_data, interpolation=\"none\", cmap=\"plasma\")"
   ]
  },
  {
   "cell_type": "code",
   "execution_count": 47,
   "metadata": {},
   "outputs": [
    {
     "data": {
      "text/plain": [
       "<matplotlib.image.AxesImage at 0x7faabc4619b0>"
      ]
     },
     "execution_count": 47,
     "metadata": {},
     "output_type": "execute_result"
    },
    {
     "data": {
      "image/png": "[encoded data removed]",
      "text/plain": [
       "<matplotlib.figure.Figure at 0x7faacc02d668>"
      ]
     },
     "metadata": {
      "image/png": {
       "height": 254,
       "width": 258
      }
     },
     "output_type": "display_data"
    }
   ],
   "source": [
    "playable_data = preprocess_get_bottom(data, scale) \\\n",
    "    + preprocess_get_top(data, scale) \\\n",
    "    + preprocess_get_random(data, scale)\n",
    "plt.imshow(playable_data, interpolation=\"none\", cmap=\"plasma\")"
   ]
  },
  {
   "cell_type": "code",
   "execution_count": null,
   "metadata": {},
   "outputs": [],
   "source": [
    "stream = make_stream(playable_data, scale)\n",
    "\n",
    "# stream.show()\n",
    "play(stream)"
   ]
  },
  {
   "cell_type": "code",
   "execution_count": 38,
   "metadata": {},
   "outputs": [],
   "source": [
    "import time\n",
    "import random"
   ]
  },
  {
   "cell_type": "code",
   "execution_count": 50,
   "metadata": {
    "scrolled": true
   },
   "outputs": [
    {
     "name": "stdout",
     "output_type": "stream",
     "text": [
      "40 5\n",
      "100 7\n"
     ]
    },
    {
     "ename": "KeyboardInterrupt",
     "evalue": "",
     "output_type": "error",
     "traceback": [
      "\u001b[0;31m---------------------------------------------------------------------------\u001b[0m",
      "\u001b[0;31mKeyboardInterrupt\u001b[0m                         Traceback (most recent call last)",
      "\u001b[0;32m<ipython-input-50-c49610681a79>\u001b[0m in \u001b[0;36m<module>\u001b[0;34m()\u001b[0m\n\u001b[1;32m     16\u001b[0m \u001b[0;34m\u001b[0m\u001b[0m\n\u001b[1;32m     17\u001b[0m     \u001b[0;31m# stream.show()\u001b[0m\u001b[0;34m\u001b[0m\u001b[0;34m\u001b[0m\u001b[0m\n\u001b[0;32m---> 18\u001b[0;31m     \u001b[0mplay\u001b[0m\u001b[0;34m(\u001b[0m\u001b[0mstream\u001b[0m\u001b[0;34m)\u001b[0m\u001b[0;34m\u001b[0m\u001b[0m\n\u001b[0m\u001b[1;32m     19\u001b[0m \u001b[0;34m\u001b[0m\u001b[0m\n\u001b[1;32m     20\u001b[0m     \u001b[0mtime\u001b[0m\u001b[0;34m.\u001b[0m\u001b[0msleep\u001b[0m\u001b[0;34m(\u001b[0m\u001b[0;36m1\u001b[0m\u001b[0;34m)\u001b[0m\u001b[0;34m\u001b[0m\u001b[0m\n",
      "\u001b[0;32m<ipython-input-13-1f1c75757278>\u001b[0m in \u001b[0;36mplay\u001b[0;34m(stream)\u001b[0m\n\u001b[1;32m      1\u001b[0m \u001b[0;32mdef\u001b[0m \u001b[0mplay\u001b[0m\u001b[0;34m(\u001b[0m\u001b[0mstream\u001b[0m\u001b[0;34m)\u001b[0m\u001b[0;34m:\u001b[0m\u001b[0;34m\u001b[0m\u001b[0m\n\u001b[1;32m      2\u001b[0m     \u001b[0mplayer\u001b[0m \u001b[0;34m=\u001b[0m \u001b[0mmidi\u001b[0m\u001b[0;34m.\u001b[0m\u001b[0mrealtime\u001b[0m\u001b[0;34m.\u001b[0m\u001b[0mStreamPlayer\u001b[0m\u001b[0;34m(\u001b[0m\u001b[0mstream\u001b[0m\u001b[0;34m)\u001b[0m\u001b[0;34m\u001b[0m\u001b[0m\n\u001b[0;32m----> 3\u001b[0;31m     \u001b[0mplayer\u001b[0m\u001b[0;34m.\u001b[0m\u001b[0mplay\u001b[0m\u001b[0;34m(\u001b[0m\u001b[0;34m)\u001b[0m\u001b[0;34m\u001b[0m\u001b[0m\n\u001b[0m",
      "\u001b[0;32m/usr/local/lib/python3.5/dist-packages/music21/midi/realtime.py\u001b[0m in \u001b[0;36mplay\u001b[0;34m(self, busyFunction, busyArgs, endFunction, endArgs, busyWaitMilliseconds)\u001b[0m\n\u001b[1;32m    114\u001b[0m         \u001b[0mstreamStringIOFile\u001b[0m \u001b[0;34m=\u001b[0m \u001b[0mself\u001b[0m\u001b[0;34m.\u001b[0m\u001b[0mgetStringOrBytesIOFile\u001b[0m\u001b[0;34m(\u001b[0m\u001b[0;34m)\u001b[0m\u001b[0;34m\u001b[0m\u001b[0m\n\u001b[1;32m    115\u001b[0m         self.playStringIOFile(streamStringIOFile, busyFunction, busyArgs,\n\u001b[0;32m--> 116\u001b[0;31m                               endFunction, endArgs, busyWaitMilliseconds)\n\u001b[0m\u001b[1;32m    117\u001b[0m \u001b[0;34m\u001b[0m\u001b[0m\n\u001b[1;32m    118\u001b[0m     \u001b[0;32mdef\u001b[0m \u001b[0mgetStringOrBytesIOFile\u001b[0m\u001b[0;34m(\u001b[0m\u001b[0mself\u001b[0m\u001b[0;34m)\u001b[0m\u001b[0;34m:\u001b[0m\u001b[0;34m\u001b[0m\u001b[0m\n",
      "\u001b[0;32m/usr/local/lib/python3.5/dist-packages/music21/midi/realtime.py\u001b[0m in \u001b[0;36mplayStringIOFile\u001b[0;34m(self, stringIOFile, busyFunction, busyArgs, endFunction, endArgs, busyWaitMilliseconds)\u001b[0m\n\u001b[1;32m    142\u001b[0m             \u001b[0;32mif\u001b[0m \u001b[0mbusyFunction\u001b[0m \u001b[0;32mis\u001b[0m \u001b[0;32mnot\u001b[0m \u001b[0;32mNone\u001b[0m\u001b[0;34m:\u001b[0m\u001b[0;34m\u001b[0m\u001b[0m\n\u001b[1;32m    143\u001b[0m                 \u001b[0mbusyFunction\u001b[0m\u001b[0;34m.\u001b[0m\u001b[0m__call__\u001b[0m\u001b[0;34m(\u001b[0m\u001b[0mbusyArgs\u001b[0m\u001b[0;34m)\u001b[0m\u001b[0;34m\u001b[0m\u001b[0m\n\u001b[0;32m--> 144\u001b[0;31m             \u001b[0mpygameClock\u001b[0m\u001b[0;34m.\u001b[0m\u001b[0mtick\u001b[0m\u001b[0;34m(\u001b[0m\u001b[0mframerate\u001b[0m\u001b[0;34m)\u001b[0m\u001b[0;34m\u001b[0m\u001b[0m\n\u001b[0m\u001b[1;32m    145\u001b[0m \u001b[0;34m\u001b[0m\u001b[0m\n\u001b[1;32m    146\u001b[0m         \u001b[0;32mif\u001b[0m \u001b[0mendFunction\u001b[0m \u001b[0;32mis\u001b[0m \u001b[0;32mnot\u001b[0m \u001b[0;32mNone\u001b[0m\u001b[0;34m:\u001b[0m\u001b[0;34m\u001b[0m\u001b[0m\n",
      "\u001b[0;31mKeyboardInterrupt\u001b[0m: "
     ]
    }
   ],
   "source": [
    "while True:\n",
    "    data = [np.random.randint(0, 2, 100, dtype=np.bool)]\n",
    "    p, q = random.choice([(7, 3), (40, 5), (100, 7), (200, 9)])\n",
    "    patterns = np.random.randint(0, 2, (p, q), dtype=np.bool)\n",
    "\n",
    "    for _ in range(100):\n",
    "        data.append(step(data[-1], patterns))\n",
    "    \n",
    "    scale = random.choice([scale_aeolian, scale_blues, scale_doric, scale_gipsy, scale_harmonic, scale_jazz, scale_melodic, scale_pentatonic])\n",
    "\n",
    "    \n",
    "    playable_data = preprocess_get_bottom(data, scale) \\\n",
    "        + preprocess_get_random(data, scale) \\\n",
    "        + preprocess_get_random(data, scale)\n",
    "\n",
    "    stream = make_stream(playable_data, scale)\n",
    "\n",
    "    # stream.show()\n",
    "    play(stream)\n",
    "    \n",
    "    time.sleep(1)"
   ]
  },
  {
   "cell_type": "code",
   "execution_count": null,
   "metadata": {},
   "outputs": [],
   "source": []
  }
 ],
 "metadata": {
  "kernelspec": {
   "display_name": "Python 3",
   "language": "python",
   "name": "python3"
  },
  "language_info": {
   "codemirror_mode": {
    "name": "ipython",
    "version": 3
   },
   "file_extension": ".py",
   "mimetype": "text/x-python",
   "name": "python",
   "nbconvert_exporter": "python",
   "pygments_lexer": "ipython3",
   "version": "3.5.2"
  }
 },
 "nbformat": 4,
 "nbformat_minor": 2
}
