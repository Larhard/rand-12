{
 "cells": [
  {
   "cell_type": "code",
   "execution_count": null,
   "metadata": {},
   "outputs": [],
   "source": [
    "import music21\n",
    "import pygame\n",
    "import copy"
   ]
  },
  {
   "cell_type": "code",
   "execution_count": null,
   "metadata": {},
   "outputs": [],
   "source": [
    "def EuRh(a, b):\n",
    "    #Function helping with euclidean rhythms generation\n",
    "    len_b = len(b)\n",
    "    EuRh_answer = ''\n",
    "    if len_b == 0:\n",
    "        for phrase in a:\n",
    "            EuRh_answer = EuRh_answer + phrase\n",
    "        return EuRh_answer\n",
    "    if len_b == 1:\n",
    "        for phrase in a:\n",
    "            EuRh_answer = EuRh_answer + phrase\n",
    "        return EuRh_answer + b[0]\n",
    "    else:\n",
    "        for i in range(len_b):\n",
    "            a[i] = a[i] + b[i]\n",
    "        b = a[len_b:]\n",
    "        a = a[0:len_b]\n",
    "        if len(a) >= len(b):\n",
    "            return EuRh(a, b)\n",
    "        else:\n",
    "            return EuRh(b, a)"
   ]
  },
  {
   "cell_type": "code",
   "execution_count": null,
   "metadata": {},
   "outputs": [],
   "source": [
    "def GER(a, b):\n",
    "    #Generate Euclidean Rhythm, with a beats spread over b places\n",
    "    if a >= (b - a):\n",
    "        return EuRh(['1'] * a, ['0'] * (b - a))\n",
    "    else:\n",
    "        GER_answer = EuRh(['0'] * (b - a), ['1'] * a)\n",
    "        while GER_answer[0] == '0':\n",
    "            GER_answer = GER_answer[1:] + GER_answer[0]\n",
    "        return GER_answer"
   ]
  },
  {
   "cell_type": "code",
   "execution_count": null,
   "metadata": {},
   "outputs": [],
   "source": [
    "def TrEu(rhythm, base_duration):\n",
    "    #Translate \"binary\" rhythm scheme to music21 notation\n",
    "    TrEu_answer = []\n",
    "    bench = base_duration\n",
    "    for i in range(1, len(rhythm)):\n",
    "        if rhythm[i] == '1':\n",
    "            TrEu_answer.append(bench)\n",
    "            bench = base_duration\n",
    "        else:\n",
    "            bench += base_duration\n",
    "    TrEu_answer.append(bench)\n",
    "    return copy.deepcopy(TrEu_answer)"
   ]
  },
  {
   "cell_type": "code",
   "execution_count": null,
   "metadata": {},
   "outputs": [],
   "source": [
    "a = int(input())\n",
    "b = int(input())\n",
    "\n",
    "binary_rhythm = GER(a, b)\n",
    "\n",
    "print(binary_rhythm)\n",
    "\n",
    "stream_1 = music21.stream.Stream()\n",
    "\n",
    "for duration in TrEu(binary_rhythm, 0.5):\n",
    "    stream_1.append(music21.note.Note('D3', quarterLength = duration))\n",
    "\n",
    "euclid_player = music21.midi.realtime.StreamPlayer(stream_1)\n",
    "euclid_player.play()"
   ]
  }
 ],
 "metadata": {
  "kernelspec": {
   "display_name": "Python 3",
   "language": "python",
   "name": "python3"
  },
  "language_info": {
   "codemirror_mode": {
    "name": "ipython",
    "version": 3
   },
   "file_extension": ".py",
   "mimetype": "text/x-python",
   "name": "python",
   "nbconvert_exporter": "python",
   "pygments_lexer": "ipython3",
   "version": "3.5.2"
  }
 },
 "nbformat": 4,
 "nbformat_minor": 2
}
